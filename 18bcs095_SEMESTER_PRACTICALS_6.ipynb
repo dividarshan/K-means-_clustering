{
 "cells": [
  {
   "cell_type": "code",
   "execution_count": 1,
   "metadata": {},
   "outputs": [],
   "source": [
    "import pandas as pd\n",
    "import numpy as np\n",
    "import seaborn as sns\n",
    "import matplotlib.pyplot as plt\n",
    "%matplotlib inline"
   ]
  },
  {
   "cell_type": "code",
   "execution_count": 3,
   "metadata": {},
   "outputs": [],
   "source": [
    "df=pd.read_csv('C:/Users/dividarshan/country_vaccinations.csv')"
   ]
  },
  {
   "cell_type": "code",
   "execution_count": 4,
   "metadata": {},
   "outputs": [
    {
     "data": {
      "text/plain": [
       "country                                 object\n",
       "iso_code                                object\n",
       "date                                    object\n",
       "total_vaccinations                     float64\n",
       "people_vaccinated                      float64\n",
       "people_fully_vaccinated                float64\n",
       "daily_vaccinations_raw                 float64\n",
       "daily_vaccinations                     float64\n",
       "total_vaccinations_per_hundred         float64\n",
       "people_vaccinated_per_hundred          float64\n",
       "people_fully_vaccinated_per_hundred    float64\n",
       "daily_vaccinations_per_million         float64\n",
       "vaccines                                object\n",
       "source_name                             object\n",
       "source_website                          object\n",
       "dtype: object"
      ]
     },
     "execution_count": 4,
     "metadata": {},
     "output_type": "execute_result"
    }
   ],
   "source": [
    "df.dtypes"
   ]
  },
  {
   "cell_type": "code",
   "execution_count": 5,
   "metadata": {},
   "outputs": [
    {
     "data": {
      "text/html": [
       "<div>\n",
       "<style scoped>\n",
       "    .dataframe tbody tr th:only-of-type {\n",
       "        vertical-align: middle;\n",
       "    }\n",
       "\n",
       "    .dataframe tbody tr th {\n",
       "        vertical-align: top;\n",
       "    }\n",
       "\n",
       "    .dataframe thead th {\n",
       "        text-align: right;\n",
       "    }\n",
       "</style>\n",
       "<table border=\"1\" class=\"dataframe\">\n",
       "  <thead>\n",
       "    <tr style=\"text-align: right;\">\n",
       "      <th></th>\n",
       "      <th>total_vaccinations</th>\n",
       "      <th>people_vaccinated</th>\n",
       "      <th>people_fully_vaccinated</th>\n",
       "      <th>daily_vaccinations_raw</th>\n",
       "      <th>daily_vaccinations</th>\n",
       "      <th>total_vaccinations_per_hundred</th>\n",
       "      <th>people_vaccinated_per_hundred</th>\n",
       "      <th>people_fully_vaccinated_per_hundred</th>\n",
       "      <th>daily_vaccinations_per_million</th>\n",
       "    </tr>\n",
       "  </thead>\n",
       "  <tbody>\n",
       "    <tr>\n",
       "      <th>count</th>\n",
       "      <td>1.452200e+04</td>\n",
       "      <td>1.376200e+04</td>\n",
       "      <td>1.104100e+04</td>\n",
       "      <td>1.200300e+04</td>\n",
       "      <td>2.559500e+04</td>\n",
       "      <td>14522.000000</td>\n",
       "      <td>13762.000000</td>\n",
       "      <td>11041.000000</td>\n",
       "      <td>25595.000000</td>\n",
       "    </tr>\n",
       "    <tr>\n",
       "      <th>mean</th>\n",
       "      <td>9.139252e+06</td>\n",
       "      <td>4.737802e+06</td>\n",
       "      <td>2.681353e+06</td>\n",
       "      <td>2.012910e+05</td>\n",
       "      <td>1.020430e+05</td>\n",
       "      <td>24.162602</td>\n",
       "      <td>16.291051</td>\n",
       "      <td>9.712350</td>\n",
       "      <td>3312.476421</td>\n",
       "    </tr>\n",
       "    <tr>\n",
       "      <th>std</th>\n",
       "      <td>4.592776e+07</td>\n",
       "      <td>1.797156e+07</td>\n",
       "      <td>1.093032e+07</td>\n",
       "      <td>1.122962e+06</td>\n",
       "      <td>7.304361e+05</td>\n",
       "      <td>30.690367</td>\n",
       "      <td>18.839369</td>\n",
       "      <td>13.466102</td>\n",
       "      <td>4512.443697</td>\n",
       "    </tr>\n",
       "    <tr>\n",
       "      <th>min</th>\n",
       "      <td>0.000000e+00</td>\n",
       "      <td>0.000000e+00</td>\n",
       "      <td>1.000000e+00</td>\n",
       "      <td>0.000000e+00</td>\n",
       "      <td>0.000000e+00</td>\n",
       "      <td>0.000000</td>\n",
       "      <td>0.000000</td>\n",
       "      <td>0.000000</td>\n",
       "      <td>0.000000</td>\n",
       "    </tr>\n",
       "    <tr>\n",
       "      <th>25%</th>\n",
       "      <td>1.005620e+05</td>\n",
       "      <td>7.876700e+04</td>\n",
       "      <td>3.719700e+04</td>\n",
       "      <td>3.967500e+03</td>\n",
       "      <td>8.400000e+02</td>\n",
       "      <td>2.360000</td>\n",
       "      <td>2.052500</td>\n",
       "      <td>1.020000</td>\n",
       "      <td>389.000000</td>\n",
       "    </tr>\n",
       "    <tr>\n",
       "      <th>50%</th>\n",
       "      <td>7.007560e+05</td>\n",
       "      <td>5.149065e+05</td>\n",
       "      <td>2.834740e+05</td>\n",
       "      <td>1.988600e+04</td>\n",
       "      <td>6.263000e+03</td>\n",
       "      <td>11.410000</td>\n",
       "      <td>8.520000</td>\n",
       "      <td>4.190000</td>\n",
       "      <td>1726.000000</td>\n",
       "    </tr>\n",
       "    <tr>\n",
       "      <th>75%</th>\n",
       "      <td>3.241681e+06</td>\n",
       "      <td>2.139073e+06</td>\n",
       "      <td>1.192415e+06</td>\n",
       "      <td>8.257600e+04</td>\n",
       "      <td>3.337300e+04</td>\n",
       "      <td>34.650000</td>\n",
       "      <td>25.207500</td>\n",
       "      <td>12.690000</td>\n",
       "      <td>4874.000000</td>\n",
       "    </tr>\n",
       "    <tr>\n",
       "      <th>max</th>\n",
       "      <td>1.029223e+09</td>\n",
       "      <td>6.220000e+08</td>\n",
       "      <td>2.232990e+08</td>\n",
       "      <td>2.360500e+07</td>\n",
       "      <td>2.029871e+07</td>\n",
       "      <td>231.010000</td>\n",
       "      <td>116.150000</td>\n",
       "      <td>114.860000</td>\n",
       "      <td>118759.000000</td>\n",
       "    </tr>\n",
       "  </tbody>\n",
       "</table>\n",
       "</div>"
      ],
      "text/plain": [
       "       total_vaccinations  people_vaccinated  people_fully_vaccinated  \\\n",
       "count        1.452200e+04       1.376200e+04             1.104100e+04   \n",
       "mean         9.139252e+06       4.737802e+06             2.681353e+06   \n",
       "std          4.592776e+07       1.797156e+07             1.093032e+07   \n",
       "min          0.000000e+00       0.000000e+00             1.000000e+00   \n",
       "25%          1.005620e+05       7.876700e+04             3.719700e+04   \n",
       "50%          7.007560e+05       5.149065e+05             2.834740e+05   \n",
       "75%          3.241681e+06       2.139073e+06             1.192415e+06   \n",
       "max          1.029223e+09       6.220000e+08             2.232990e+08   \n",
       "\n",
       "       daily_vaccinations_raw  daily_vaccinations  \\\n",
       "count            1.200300e+04        2.559500e+04   \n",
       "mean             2.012910e+05        1.020430e+05   \n",
       "std              1.122962e+06        7.304361e+05   \n",
       "min              0.000000e+00        0.000000e+00   \n",
       "25%              3.967500e+03        8.400000e+02   \n",
       "50%              1.988600e+04        6.263000e+03   \n",
       "75%              8.257600e+04        3.337300e+04   \n",
       "max              2.360500e+07        2.029871e+07   \n",
       "\n",
       "       total_vaccinations_per_hundred  people_vaccinated_per_hundred  \\\n",
       "count                    14522.000000                   13762.000000   \n",
       "mean                        24.162602                      16.291051   \n",
       "std                         30.690367                      18.839369   \n",
       "min                          0.000000                       0.000000   \n",
       "25%                          2.360000                       2.052500   \n",
       "50%                         11.410000                       8.520000   \n",
       "75%                         34.650000                      25.207500   \n",
       "max                        231.010000                     116.150000   \n",
       "\n",
       "       people_fully_vaccinated_per_hundred  daily_vaccinations_per_million  \n",
       "count                         11041.000000                    25595.000000  \n",
       "mean                              9.712350                     3312.476421  \n",
       "std                              13.466102                     4512.443697  \n",
       "min                               0.000000                        0.000000  \n",
       "25%                               1.020000                      389.000000  \n",
       "50%                               4.190000                     1726.000000  \n",
       "75%                              12.690000                     4874.000000  \n",
       "max                             114.860000                   118759.000000  "
      ]
     },
     "execution_count": 5,
     "metadata": {},
     "output_type": "execute_result"
    }
   ],
   "source": [
    "df.describe()"
   ]
  },
  {
   "cell_type": "code",
   "execution_count": 6,
   "metadata": {},
   "outputs": [
    {
     "name": "stdout",
     "output_type": "stream",
     "text": [
      "<class 'pandas.core.frame.DataFrame'>\n",
      "RangeIndex: 25862 entries, 0 to 25861\n",
      "Data columns (total 15 columns):\n",
      " #   Column                               Non-Null Count  Dtype  \n",
      "---  ------                               --------------  -----  \n",
      " 0   country                              25862 non-null  object \n",
      " 1   iso_code                             25862 non-null  object \n",
      " 2   date                                 25862 non-null  object \n",
      " 3   total_vaccinations                   14522 non-null  float64\n",
      " 4   people_vaccinated                    13762 non-null  float64\n",
      " 5   people_fully_vaccinated              11041 non-null  float64\n",
      " 6   daily_vaccinations_raw               12003 non-null  float64\n",
      " 7   daily_vaccinations                   25595 non-null  float64\n",
      " 8   total_vaccinations_per_hundred       14522 non-null  float64\n",
      " 9   people_vaccinated_per_hundred        13762 non-null  float64\n",
      " 10  people_fully_vaccinated_per_hundred  11041 non-null  float64\n",
      " 11  daily_vaccinations_per_million       25595 non-null  float64\n",
      " 12  vaccines                             25862 non-null  object \n",
      " 13  source_name                          25862 non-null  object \n",
      " 14  source_website                       25862 non-null  object \n",
      "dtypes: float64(9), object(6)\n",
      "memory usage: 3.0+ MB\n"
     ]
    }
   ],
   "source": [
    "df.info()"
   ]
  },
  {
   "cell_type": "code",
   "execution_count": null,
   "metadata": {},
   "outputs": [],
   "source": [
    "2. Create a random dataset of 50 elements with x and y variables using random function between\n",
    "30 to 100 integers for x and 60 to 150 integers for y. Apply K- means clustering to cluster the data into 3 clusters.\n",
    "Plot the graph and display the result. Use Tkinter GUI to Display the Results"
   ]
  },
  {
   "cell_type": "code",
   "execution_count": 10,
   "metadata": {
    "scrolled": true
   },
   "outputs": [
    {
     "name": "stdout",
     "output_type": "stream",
     "text": [
      "     X    Y\n",
      "0   78  110\n",
      "1   62  115\n",
      "2   58   88\n",
      "3   86  103\n",
      "4   79   73\n",
      "5   72   90\n",
      "6   52   85\n",
      "7   93   66\n",
      "8   73  144\n",
      "9   74   85\n",
      "10  77   82\n",
      "11  51  147\n",
      "12  86  118\n",
      "13  89   98\n",
      "14  94  101\n",
      "15  99   98\n",
      "16  55  127\n",
      "17  67  114\n",
      "18  57   77\n",
      "19  98   70\n",
      "20  54  124\n",
      "21  56  107\n",
      "22  54   65\n",
      "23  98  100\n",
      "24  93   60\n",
      "25  92   93\n",
      "26  91  117\n",
      "27  71   72\n",
      "28  66   64\n",
      "29  86   98\n",
      "30  68   93\n",
      "31  73  122\n",
      "32  93  135\n",
      "33  97  118\n",
      "34  60  136\n",
      "35  63   97\n",
      "36  62   65\n",
      "37  74  134\n",
      "38  78   82\n",
      "39  84   83\n",
      "40  94  113\n",
      "41  61   99\n",
      "42  95   93\n",
      "43  55  112\n",
      "44  54  117\n",
      "45  98   76\n",
      "46  63   85\n",
      "47  61  128\n",
      "48  90   94\n",
      "49  93   62\n"
     ]
    }
   ],
   "source": [
    "import numpy as np\n",
    "from pandas import DataFrame\n",
    "Data={'X' : np.random.randint(50,100,50),\n",
    "'Y' : np.random.randint(60,150,50)}\n",
    "df = DataFrame(Data,columns=['X','Y'])\n",
    "print(df)"
   ]
  },
  {
   "cell_type": "code",
   "execution_count": 12,
   "metadata": {
    "scrolled": false
   },
   "outputs": [
    {
     "name": "stdout",
     "output_type": "stream",
     "text": [
      "[[ 73.36363636  78.13636364]\n",
      " [ 61.15384615 125.15384615]\n",
      " [ 91.2        105.93333333]]\n"
     ]
    },
    {
     "data": {
      "image/png": "[encoded data removed]",
      "text/plain": [
       "<Figure size 432x288 with 1 Axes>"
      ]
     },
     "metadata": {
      "needs_background": "light"
     },
     "output_type": "display_data"
    }
   ],
   "source": [
    "import matplotlib.pyplot as plt\n",
    "from sklearn.cluster import KMeans\n",
    "\n",
    "\n",
    "kmeans = KMeans(n_clusters=3).fit(df)\n",
    "centroids = kmeans.cluster_centers_\n",
    "print(centroids)\n",
    "\n",
    "plt.scatter(df['X'], df['Y'], c= kmeans.labels_.astype(float), s=50, alpha=0.5)\n",
    "plt.scatter(centroids[:, 0], centroids[:, 1], c='red', s=50)\n",
    "plt.show()"
   ]
  },
  {
   "cell_type": "code",
   "execution_count": null,
   "metadata": {},
   "outputs": [],
   "source": [
    "import tkinter as tk\n",
    "from matplotlib.backends.backend_tkagg import FigureCanvasTkAgg\n",
    "  \n",
    "\n",
    "root= tk.Tk()\n",
    "\n",
    "canvas1 = tk.Canvas(root, width = 100, height = 100)\n",
    "canvas1.pack()\n",
    "\n",
    "label1 = tk.Label(root, text=centroids, justify = 'center')\n",
    "canvas1.create_window(70, 50, window=label1)\n",
    "\n",
    "figure1 = plt.Figure(figsize=(5,4), dpi=100)\n",
    "ax1 = figure1.add_subplot(111)\n",
    "ax1.scatter(df['X'], df['Y'], c= kmeans.labels_.astype(float), s=50, alpha=0.5)\n",
    "ax1.scatter(centroids[:, 0], centroids[:, 1], c='red', s=50)\n",
    "scatter1 = FigureCanvasTkAgg(figure1, root) \n",
    "scatter1.get_tk_widget().pack(side=tk.LEFT, fill=tk.BOTH)\n",
    "\n",
    "root.mainloop()"
   ]
  },
  {
   "cell_type": "code",
   "execution_count": null,
   "metadata": {},
   "outputs": [],
   "source": []
  }
 ],
 "metadata": {
  "kernelspec": {
   "display_name": "Python 3",
   "language": "python",
   "name": "python3"
  },
  "language_info": {
   "codemirror_mode": {
    "name": "ipython",
    "version": 3
   },
   "file_extension": ".py",
   "mimetype": "text/x-python",
   "name": "python",
   "nbconvert_exporter": "python",
   "pygments_lexer": "ipython3",
   "version": "3.8.5"
  }
 },
 "nbformat": 4,
 "nbformat_minor": 4
}
